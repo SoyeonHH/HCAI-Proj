{
 "cells": [
  {
   "cell_type": "markdown",
   "metadata": {},
   "source": [
    "# Generalized Additive Model"
   ]
  },
  {
   "cell_type": "markdown",
   "metadata": {},
   "source": [
    "## Install pyGAM"
   ]
  },
  {
   "cell_type": "code",
   "execution_count": 1,
   "metadata": {},
   "outputs": [
    {
     "name": "stdout",
     "output_type": "stream",
     "text": [
      "Collecting pygam\n",
      "  Downloading pygam-0.8.0-py2.py3-none-any.whl (1.8 MB)\n",
      "\u001b[K     |████████████████████████████████| 1.8 MB 9.4 MB/s eta 0:00:01\n",
      "\u001b[?25hRequirement already satisfied: numpy in /mnt/soyeon/anaconda3/envs/pytorch/lib/python3.7/site-packages (from pygam) (1.21.2)\n",
      "Requirement already satisfied: scipy in /mnt/soyeon/anaconda3/envs/pytorch/lib/python3.7/site-packages (from pygam) (1.7.3)\n",
      "Collecting future\n",
      "  Using cached future-0.18.2.tar.gz (829 kB)\n",
      "Collecting progressbar2\n",
      "  Downloading progressbar2-4.0.0-py2.py3-none-any.whl (26 kB)\n",
      "Collecting python-utils>=3.0.0\n",
      "  Downloading python_utils-3.3.3-py2.py3-none-any.whl (23 kB)\n",
      "Building wheels for collected packages: future\n",
      "  Building wheel for future (setup.py) ... \u001b[?25ldone\n",
      "\u001b[?25h  Created wheel for future: filename=future-0.18.2-py3-none-any.whl size=491070 sha256=7bda227d167c7287562a273878077e1686ae78a3e69c8df381a5edde8d0c493c\n",
      "  Stored in directory: /home/soyeon/.cache/pip/wheels/56/b0/fe/4410d17b32f1f0c3cf54cdfb2bc04d7b4b8f4ae377e2229ba0\n",
      "Successfully built future\n",
      "Installing collected packages: python-utils, progressbar2, future, pygam\n",
      "Successfully installed future-0.18.2 progressbar2-4.0.0 pygam-0.8.0 python-utils-3.3.3\n"
     ]
    }
   ],
   "source": [
    "!pip install pygam"
   ]
  },
  {
   "cell_type": "code",
   "execution_count": 2,
   "metadata": {},
   "outputs": [
    {
     "name": "stdout",
     "output_type": "stream",
     "text": [
      "Collecting flit\n",
      "  Downloading flit-3.7.1-py3-none-any.whl (49 kB)\n",
      "\u001b[K     |████████████████████████████████| 49 kB 7.2 MB/s  eta 0:00:01\n",
      "\u001b[?25hCollecting flit_core>=3.7.1\n",
      "  Downloading flit_core-3.7.1-py3-none-any.whl (60 kB)\n",
      "\u001b[K     |████████████████████████████████| 60 kB 7.4 MB/s  eta 0:00:01\n",
      "\u001b[?25hRequirement already satisfied: requests in /mnt/soyeon/anaconda3/envs/pytorch/lib/python3.7/site-packages (from flit) (2.27.1)\n",
      "Collecting tomli\n",
      "  Downloading tomli-2.0.1-py3-none-any.whl (12 kB)\n",
      "Collecting tomli-w\n",
      "  Downloading tomli_w-1.0.0-py3-none-any.whl (6.0 kB)\n",
      "Collecting docutils\n",
      "  Downloading docutils-0.18.1-py2.py3-none-any.whl (570 kB)\n",
      "\u001b[K     |████████████████████████████████| 570 kB 6.4 MB/s eta 0:00:01\n",
      "\u001b[?25hRequirement already satisfied: urllib3<1.27,>=1.21.1 in /mnt/soyeon/anaconda3/envs/pytorch/lib/python3.7/site-packages (from requests->flit) (1.26.8)\n",
      "Requirement already satisfied: certifi>=2017.4.17 in /mnt/soyeon/anaconda3/envs/pytorch/lib/python3.7/site-packages (from requests->flit) (2022.5.18.1)\n",
      "Requirement already satisfied: idna<4,>=2.5 in /mnt/soyeon/anaconda3/envs/pytorch/lib/python3.7/site-packages (from requests->flit) (3.3)\n",
      "Requirement already satisfied: charset-normalizer~=2.0.0 in /mnt/soyeon/anaconda3/envs/pytorch/lib/python3.7/site-packages (from requests->flit) (2.0.4)\n",
      "Installing collected packages: tomli-w, tomli, flit-core, docutils, flit\n",
      "Successfully installed docutils-0.18.1 flit-3.7.1 flit-core-3.7.1 tomli-2.0.1 tomli-w-1.0.0\n"
     ]
    }
   ],
   "source": [
    "!pip install flit"
   ]
  },
  {
   "cell_type": "code",
   "execution_count": 5,
   "metadata": {},
   "outputs": [
    {
     "name": "stdout",
     "output_type": "stream",
     "text": [
      "Requirement already satisfied: pandas in /mnt/soyeon/anaconda3/envs/pytorch/lib/python3.7/site-packages (1.3.5)\n",
      "Requirement already satisfied: matplotlib in /mnt/soyeon/anaconda3/envs/pytorch/lib/python3.7/site-packages (3.5.1)\n",
      "Requirement already satisfied: pytz>=2017.3 in /mnt/soyeon/anaconda3/envs/pytorch/lib/python3.7/site-packages (from pandas) (2021.3)\n",
      "Requirement already satisfied: numpy>=1.17.3 in /mnt/soyeon/anaconda3/envs/pytorch/lib/python3.7/site-packages (from pandas) (1.21.2)\n",
      "Requirement already satisfied: python-dateutil>=2.7.3 in /mnt/soyeon/anaconda3/envs/pytorch/lib/python3.7/site-packages (from pandas) (2.8.2)\n",
      "Requirement already satisfied: pillow>=6.2.0 in /mnt/soyeon/anaconda3/envs/pytorch/lib/python3.7/site-packages (from matplotlib) (9.0.1)\n",
      "Requirement already satisfied: packaging>=20.0 in /mnt/soyeon/anaconda3/envs/pytorch/lib/python3.7/site-packages (from matplotlib) (21.3)\n",
      "Requirement already satisfied: pyparsing>=2.2.1 in /mnt/soyeon/anaconda3/envs/pytorch/lib/python3.7/site-packages (from matplotlib) (3.0.7)\n",
      "Requirement already satisfied: kiwisolver>=1.0.1 in /mnt/soyeon/anaconda3/envs/pytorch/lib/python3.7/site-packages (from matplotlib) (1.3.2)\n",
      "Requirement already satisfied: fonttools>=4.22.0 in /mnt/soyeon/anaconda3/envs/pytorch/lib/python3.7/site-packages (from matplotlib) (4.30.0)\n",
      "Requirement already satisfied: cycler>=0.10 in /mnt/soyeon/anaconda3/envs/pytorch/lib/python3.7/site-packages (from matplotlib) (0.11.0)\n",
      "Requirement already satisfied: six>=1.5 in /mnt/soyeon/anaconda3/envs/pytorch/lib/python3.7/site-packages (from python-dateutil>=2.7.3->pandas) (1.16.0)\n"
     ]
    }
   ],
   "source": [
    "!pip install pandas matplotlib"
   ]
  },
  {
   "cell_type": "markdown",
   "metadata": {},
   "source": [
    "## Load Data"
   ]
  },
  {
   "cell_type": "code",
   "execution_count": 36,
   "metadata": {},
   "outputs": [],
   "source": [
    "import pickle as pkl\n",
    "import numpy as np\n",
    "from tqdm import tqdm\n",
    "import ipywidgets as widgets\n",
    "from ipywidgets import interact, interact_manual\n",
    "\n",
    "with open(\"./data/MOSI/mosi.pkl\", 'rb') as f:\n",
    "    mosi = pkl.load(f)"
   ]
  },
  {
   "cell_type": "code",
   "execution_count": 38,
   "metadata": {},
   "outputs": [
    {
     "data": {
      "application/vnd.jupyter.widget-view+json": {
       "model_id": "696e8b131e3943959ac466f656fbcf45",
       "version_major": 2,
       "version_minor": 0
      },
      "text/plain": [
       "interactive(children=(Dropdown(description='idx', options=(0, 1, 2, 3, 4, 5, 6, 7, 8, 9, 10, 11, 12, 13, 14, 1…"
      ]
     },
     "metadata": {},
     "output_type": "display_data"
    }
   ],
   "source": [
    "test_mosi = mosi['test']\n",
    "\n",
    "@interact\n",
    "def get_mosi_sample(idx = range(len(test_mosi))):\n",
    "    (words, visual, acoustic), label, segment =  test_mosi[idx]\n",
    "    print(\"WORDS\", words)\n",
    "    print(\"VISUAL\", visual.shape)\n",
    "    print(\"ACOUSTIC\", acoustic.shape)\n",
    "    print(\"LABEL\", label)\n",
    "    print(\"SEGMENT\", segment)"
   ]
  },
  {
   "cell_type": "markdown",
   "metadata": {},
   "source": [
    "## Load Hidden Vectors of each modality"
   ]
  },
  {
   "cell_type": "code",
   "execution_count": 31,
   "metadata": {},
   "outputs": [],
   "source": [
    "from utils.tools import *\n",
    "H_fusion = load_hidden('fusion_embedding')\n",
    "H_text = load_hidden('text_embedding')\n",
    "H_visual = load_hidden('visual_embedding')\n",
    "H_acoustic = load_hidden('acoustic_embedding')"
   ]
  },
  {
   "cell_type": "code",
   "execution_count": 32,
   "metadata": {},
   "outputs": [
    {
     "name": "stdout",
     "output_type": "stream",
     "text": [
      "22875\n",
      "22875\n",
      "22875\n",
      "22875\n"
     ]
    }
   ],
   "source": [
    "print(len(H_fusion))\n",
    "print(len(H_text))\n",
    "print(len(H_visual))\n",
    "print(len(H_acoustic))"
   ]
  },
  {
   "cell_type": "code",
   "execution_count": 33,
   "metadata": {},
   "outputs": [
    {
     "name": "stdout",
     "output_type": "stream",
     "text": [
      "50\n",
      "50\n",
      "50\n",
      "50\n"
     ]
    }
   ],
   "source": [
    "print(len(H_fusion[0]))\n",
    "print(len(H_text[0]))\n",
    "print(len(H_visual[0]))\n",
    "print(len(H_acoustic[0]))"
   ]
  },
  {
   "cell_type": "code",
   "execution_count": 34,
   "metadata": {},
   "outputs": [
    {
     "data": {
      "text/plain": [
       "array([ 0.8724696 , -0.4250846 , -0.26327625, -0.655799  ,  0.13032405,\n",
       "       -0.52283996,  0.09779817, -0.28733084, -0.8420297 ,  0.8923903 ,\n",
       "        0.33639732,  0.21169141, -0.75332975, -0.37044334,  0.46373075,\n",
       "       -0.7805752 ,  0.09169161,  0.623508  , -0.32917178, -0.69328594,\n",
       "       -0.62448657, -0.32090372, -0.23983453,  0.05563669, -0.04854798,\n",
       "       -0.03985337,  0.33007866, -0.4486242 ,  0.5469176 ,  0.35339782,\n",
       "        0.3067941 ,  0.34885904,  0.08763543,  0.27171645, -0.4538527 ,\n",
       "        0.8008487 ,  0.26857227, -0.520889  ,  0.09602328, -0.31135526,\n",
       "       -0.59360075,  0.07416614, -0.15647687,  0.693528  ,  0.8117913 ,\n",
       "        0.59675986, -0.20694777, -0.4159442 ,  0.87523997, -0.89961565],\n",
       "      dtype=float32)"
      ]
     },
     "execution_count": 34,
     "metadata": {},
     "output_type": "execute_result"
    }
   ],
   "source": [
    "H_fusion[0]"
   ]
  },
  {
   "cell_type": "markdown",
   "metadata": {},
   "source": [
    "## pyGAM fit"
   ]
  },
  {
   "cell_type": "code",
   "execution_count": null,
   "metadata": {},
   "outputs": [],
   "source": [
    "from pygam import LinearGAM\n",
    "\n",
    "X, y = H_visual, H_text\n"
   ]
  }
 ],
 "metadata": {
  "interpreter": {
   "hash": "658084397260d4aab479b7df4163d6eb096562a13a5b5f6c649e3c1d5e34b6c2"
  },
  "kernelspec": {
   "display_name": "Python 3.7.11 ('pytorch')",
   "language": "python",
   "name": "python3"
  },
  "language_info": {
   "codemirror_mode": {
    "name": "ipython",
    "version": 3
   },
   "file_extension": ".py",
   "mimetype": "text/x-python",
   "name": "python",
   "nbconvert_exporter": "python",
   "pygments_lexer": "ipython3",
   "version": "3.7.11"
  },
  "orig_nbformat": 4
 },
 "nbformat": 4,
 "nbformat_minor": 2
}
